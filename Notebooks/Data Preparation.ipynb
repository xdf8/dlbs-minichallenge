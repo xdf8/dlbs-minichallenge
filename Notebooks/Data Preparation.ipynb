{
 "cells": [
  {
   "cell_type": "markdown",
   "id": "f106b083-45e9-49f2-abd7-bef8ddd686da",
   "metadata": {},
   "source": [
    "# Datenaufbereitung\n",
    "\n",
    "Der originale Datensatz unter http://ai.stanford.edu/~jkrause/cars/car_dataset.html ist nicht mehr verfügbar. So arbeiten wir mit dem TODO."
   ]
  },
  {
   "cell_type": "code",
   "execution_count": 1,
   "id": "f1e63b5e-473a-42f7-aaab-d7028a789afe",
   "metadata": {},
   "outputs": [],
   "source": [
    "%load_ext autoreload\n",
    "%autoreload 2"
   ]
  },
  {
   "cell_type": "code",
   "execution_count": 2,
   "id": "adac2858-a9b6-4f82-8d1c-2fb63e3c189d",
   "metadata": {},
   "outputs": [],
   "source": [
    "import os\n",
    "import sys\n",
    "import pandas as pd\n",
    "from scipy.io import loadmat\n",
    "from sklearn.model_selection import train_test_split\n",
    "\n",
    "import helpers"
   ]
  },
  {
   "cell_type": "code",
   "execution_count": 19,
   "id": "9aae820b-56ff-47b1-95d1-54065ffed934",
   "metadata": {},
   "outputs": [
    {
     "name": "stdout",
     "output_type": "stream",
     "text": [
      "/Users/fabianjordi/Documents/FHNW - Data Science/Repositories.nosync/dlbs-minichallenge/Notebooks\n",
      "/Users/fabianjordi/Documents/FHNW - Data Science/Repositories.nosync/dlbs-minichallenge\n",
      "/Users/fabianjordi/Documents/FHNW - Data Science/Repositories.nosync/dlbs-minichallenge/data\n",
      "/Users/fabianjordi/Documents/FHNW - Data Science/Repositories.nosync/dlbs-minichallenge/data/car_ims\n"
     ]
    }
   ],
   "source": [
    "NOTEBOOK_DIR = os.getcwd()\n",
    "ROOT_DIR = os.path.abspath(os.path.join(os.path.dirname(os.getcwd())))\n",
    "DATA_DIR = os.path.abspath(os.path.join(os.path.dirname(os.getcwd()), 'data'))\n",
    "CARS_IMS_DIR = os.path.abspath(os.path.join(os.path.dirname(os.getcwd()), 'data/car_ims'))\n",
    "print(NOTEBOOK_DIR)\n",
    "print(ROOT_DIR)\n",
    "print(DATA_DIR)\n",
    "print(CARS_IMS_DIR)"
   ]
  },
  {
   "cell_type": "markdown",
   "id": "89116cf6-ceab-4efe-ad3a-bceb7af80eee",
   "metadata": {},
   "source": [
    "Folgend lesen wir die Annotierungen ein und erstellen die entsprechende Text-Datei mit dem vom YOLO benötigten Inhalt `class_idx   x_center   y_center   width   height`."
   ]
  },
  {
   "cell_type": "code",
   "execution_count": 7,
   "id": "de0715f3-fc4a-4896-9df9-5962c1cc0e7e",
   "metadata": {},
   "outputs": [],
   "source": [
    "cars_annos = loadmat(os.path.join(DATA_DIR, 'cars_annos.mat')).get('annotations')\n",
    "\n",
    "for car_anno in cars_annos[0]:\n",
    "\n",
    "    label_filename = os.path.splitext(car_anno[0][0])[0] + '.txt'\n",
    "    # create txt file\n",
    "    f = open(os.path.join(DATA_DIR, label_filename), 'w+')\n",
    "\n",
    "    # read annotations and fill list to write into txt file\n",
    "    label = []\n",
    "\n",
    "    class_idx = car_anno[5][0][0]\n",
    "    x1 = car_anno[1][0][0]\n",
    "    y1 = car_anno[2][0][0]\n",
    "    x2 = car_anno[3][0][0]\n",
    "    y2 = car_anno[4][0][0]\n",
    "\n",
    "    label.extend([class_idx, x1, y1, x2, y2])\n",
    "\n",
    "    # write file content\n",
    "    # format: class_idx   x_center   y_center   width   height\n",
    "    f.write('\\t'.join(str(v) for v in label))\n",
    "    f.close()"
   ]
  },
  {
   "cell_type": "code",
   "execution_count": 13,
   "id": "c9081eea-8127-4a22-96f9-51498a6b373d",
   "metadata": {},
   "outputs": [],
   "source": [
    "images = [os.path.join(CARS_IMS_DIR, x) for x in os.listdir(CARS_IMS_DIR) if x[-3:] == 'jpg']\n",
    "annotations = [os.path.join(CARS_IMS_DIR, x) for x in os.listdir(CARS_IMS_DIR) if x[-3:] == 'txt']\n",
    "\n",
    "images.sort()\n",
    "annotations.sort()"
   ]
  },
  {
   "cell_type": "code",
   "execution_count": 18,
   "id": "7cc54dbc-3b06-4cc3-8a05-6b695a932c21",
   "metadata": {},
   "outputs": [],
   "source": [
    "train_images, val_images, train_annotations, val_annotations = train_test_split(images, annotations, test_size = 0.2, random_state = 1)"
   ]
  },
  {
   "cell_type": "code",
   "execution_count": 20,
   "id": "f5634b65-9dc6-4ad4-baad-1346360973ed",
   "metadata": {},
   "outputs": [
    {
     "ename": "FileNotFoundError",
     "evalue": "[Errno 2] No such file or directory: 'images'",
     "output_type": "error",
     "traceback": [
      "\u001b[0;31m---------------------------------------------------------------------------\u001b[0m",
      "\u001b[0;31mFileNotFoundError\u001b[0m                         Traceback (most recent call last)",
      "Cell \u001b[0;32mIn[20], line 2\u001b[0m\n\u001b[1;32m      1\u001b[0m \u001b[38;5;66;03m# Get all images (JPGs) and labels (TXTs)\u001b[39;00m\n\u001b[0;32m----> 2\u001b[0m images \u001b[38;5;241m=\u001b[39m [os\u001b[38;5;241m.\u001b[39mpath\u001b[38;5;241m.\u001b[39mjoin(\u001b[38;5;124m'\u001b[39m\u001b[38;5;124mimages\u001b[39m\u001b[38;5;124m'\u001b[39m, x) \u001b[38;5;28;01mfor\u001b[39;00m x \u001b[38;5;129;01min\u001b[39;00m \u001b[43mos\u001b[49m\u001b[38;5;241;43m.\u001b[39;49m\u001b[43mlistdir\u001b[49m\u001b[43m(\u001b[49m\u001b[38;5;124;43m'\u001b[39;49m\u001b[38;5;124;43mimages\u001b[39;49m\u001b[38;5;124;43m'\u001b[39;49m\u001b[43m)\u001b[49m \u001b[38;5;28;01mif\u001b[39;00m x[\u001b[38;5;241m-\u001b[39m\u001b[38;5;241m3\u001b[39m:] \u001b[38;5;241m==\u001b[39m \u001b[38;5;124m'\u001b[39m\u001b[38;5;124mjpg\u001b[39m\u001b[38;5;124m'\u001b[39m]\n\u001b[1;32m      3\u001b[0m annotations \u001b[38;5;241m=\u001b[39m [os\u001b[38;5;241m.\u001b[39mpath\u001b[38;5;241m.\u001b[39mjoin(\u001b[38;5;124m'\u001b[39m\u001b[38;5;124mlabels\u001b[39m\u001b[38;5;124m'\u001b[39m, x) \u001b[38;5;28;01mfor\u001b[39;00m x \u001b[38;5;129;01min\u001b[39;00m os\u001b[38;5;241m.\u001b[39mlistdir(\u001b[38;5;124m'\u001b[39m\u001b[38;5;124mlabels\u001b[39m\u001b[38;5;124m'\u001b[39m) \u001b[38;5;28;01mif\u001b[39;00m x[\u001b[38;5;241m-\u001b[39m\u001b[38;5;241m3\u001b[39m:] \u001b[38;5;241m==\u001b[39m \u001b[38;5;124m'\u001b[39m\u001b[38;5;124mtxt\u001b[39m\u001b[38;5;124m'\u001b[39m]\n\u001b[1;32m      5\u001b[0m \u001b[38;5;66;03m# Sort'em\u001b[39;00m\n",
      "\u001b[0;31mFileNotFoundError\u001b[0m: [Errno 2] No such file or directory: 'images'"
     ]
    }
   ],
   "source": [
    "# Get all images (JPGs) and labels (TXTs)\n",
    "images = [os.path.join('images', x) for x in os.listdir('images') if x[-3:] == 'jpg']\n",
    "annotations = [os.path.join('labels', x) for x in os.listdir('labels') if x[-3:] == 'txt']\n",
    "\n",
    "# Sort'em\n",
    "images.sort()\n",
    "annotations.sort()\n",
    "\n",
    "# Split'em into train and validation\n",
    "train_images, val_images, train_annotations, val_annotations = train_test_split(images, annotations, test_size = 0.2, random_state = 1)\n",
    "\n",
    "# Split validation images again into validation and test \n",
    "val_images, test_images, val_annotations, test_annotations = train_test_split(val_images, val_annotations, test_size = 0.5, random_state = 1)\n",
    "\n",
    "# Create train, test and val folders for images and labels\n",
    "folders = ['train', 'test', 'val']\n",
    "for folder in folders:\n",
    "    os.makedirs(os.path.join(CARS_IMS_DIR, 'images', folder))\n",
    "    os.makedirs(os.path.join(CARS_IMS_DIR, 'labels', folder)) \n",
    "\n",
    "\n"
   ]
  },
  {
   "cell_type": "code",
   "execution_count": null,
   "id": "0b64fea0-49d2-4ae4-812d-726834521c66",
   "metadata": {},
   "outputs": [],
   "source": [
    "def move_files_to_folder(list_of_files, destination_folder):\n",
    "    for f in list_of_files:\n",
    "        try:\n",
    "            shutil.move(f, destination_folder)\n",
    "        except:\n",
    "            print(f)\n",
    "            assert False\n",
    "\n",
    "move_files_to_folder(train_images, 'images/train')\n",
    "move_files_to_folder(val_images, 'images/val/')\n",
    "move_files_to_folder(test_images, 'images/test/')\n",
    "move_files_to_folder(train_annotations, 'labels/train/')\n",
    "move_files_to_folder(val_annotations, 'labels/val/')\n",
    "move_files_to_folder(test_annotations, 'labels/test/')"
   ]
  },
  {
   "cell_type": "code",
   "execution_count": null,
   "id": "3deebbfc-baa5-405f-beb3-d7bc6cd0365d",
   "metadata": {},
   "outputs": [],
   "source": [
    "cars_meta = loadmat(os.path.join(DATA_DIR, 'cars_meta.mat')).get('class_names')"
   ]
  },
  {
   "cell_type": "code",
   "execution_count": null,
   "id": "f5cd38a2-434d-4b2c-9230-71eb2a4933e3",
   "metadata": {},
   "outputs": [],
   "source": []
  },
  {
   "cell_type": "code",
   "execution_count": null,
   "id": "67351f5c-0114-4927-949a-1bb4fbb2d50e",
   "metadata": {},
   "outputs": [],
   "source": []
  }
 ],
 "metadata": {
  "kernelspec": {
   "display_name": "Python [conda env:root] *",
   "language": "python",
   "name": "conda-root-py"
  },
  "language_info": {
   "codemirror_mode": {
    "name": "ipython",
    "version": 3
   },
   "file_extension": ".py",
   "mimetype": "text/x-python",
   "name": "python",
   "nbconvert_exporter": "python",
   "pygments_lexer": "ipython3",
   "version": "3.10.10"
  }
 },
 "nbformat": 4,
 "nbformat_minor": 5
}
