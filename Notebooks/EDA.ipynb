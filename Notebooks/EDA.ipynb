{
 "cells": [
  {
   "cell_type": "markdown",
   "id": "4f530479-62cf-4d89-9d88-c8a81de19983",
   "metadata": {},
   "source": [
    "# Explorative Datenanalyse\n",
    "\n",
    "## Stanford Cars Vehicle Recognition\n",
    "\n",
    "Fabian Jordi"
   ]
  },
  {
   "cell_type": "code",
   "execution_count": 5,
   "id": "da2c9b82-dd4e-4fc6-965a-6c07de486982",
   "metadata": {},
   "outputs": [
    {
     "name": "stdout",
     "output_type": "stream",
     "text": [
      "The autoreload extension is already loaded. To reload it, use:\n",
      "  %reload_ext autoreload\n"
     ]
    }
   ],
   "source": [
    "%load_ext autoreload\n",
    "%autoreload 2"
   ]
  },
  {
   "cell_type": "code",
   "execution_count": 6,
   "id": "3ae31183-93e1-4102-85e0-376fc627f99e",
   "metadata": {},
   "outputs": [],
   "source": [
    "# import modules\n",
    "import numpy as np\n",
    "import pandas as pd\n",
    "import seaborn as sns\n",
    "import cv2\n",
    "import os\n",
    "import glob\n",
    "import matplotlib.pyplot as plt\n",
    "from sklearn.model_selection import train_test_split\n",
    "import warnings\n",
    "warnings.filterwarnings('ignore')\n",
    "\n",
    "# import custom python script\n",
    "import helpers             # preprocessing\n",
    "#import Models         # exploratory analysis and model fitting/comparisons"
   ]
  },
  {
   "cell_type": "code",
   "execution_count": 7,
   "id": "b5b075c1-d17b-48a3-99af-cd3ede531fec",
   "metadata": {},
   "outputs": [
    {
     "name": "stdout",
     "output_type": "stream",
     "text": [
      "/Users/fabianjordi/Documents/FHNW - Data Science/Repositories.nosync/dlbs-minichallenge/Notebooks\n",
      "/Users/fabianjordi/Documents/FHNW - Data Science/Repositories.nosync/dlbs-minichallenge/Notebooks\n"
     ]
    }
   ],
   "source": [
    "NOTEBOOK_DIR = os.getcwd()\n",
    "ROOT_DIR = os.path.abspath(os.path.join(os.path.dirname(os.getcwd())))\n",
    "CARS_IMS_DIR = os.path.abspath(os.path.join(os.path.dirname(os.getcwd()), 'data/car_ims'))\n",
    "print(NOTEBOOK_DIR)\n",
    "\n",
    "current_folder = globals()['_dh'][0]\n",
    "print(current_folder)"
   ]
  },
  {
   "cell_type": "code",
   "execution_count": null,
   "id": "23fa2e75-ea13-4345-a124-3947c073aa87",
   "metadata": {},
   "outputs": [],
   "source": [
    "%cd {DATA_DIR + '/car_ims'}\n",
    "data = np.array([cv2.imread(filename) for filename in sorted(glob.glob('*.jpg'), key = lambda x: int(os.path.splitext(x)[0]))])"
   ]
  },
  {
   "cell_type": "code",
   "execution_count": null,
   "id": "300d81c4-461e-481e-8ae6-ad0a3b565a9e",
   "metadata": {},
   "outputs": [],
   "source": [
    "fig = plt.figure(figsize = (15, 5))\n",
    "plt.subplot(1, 3, 1)\n",
    "sns.distplot(data, bins = wo_yr_num_classes)\n",
    "plt.title('Distribution Plot of Classes in the Original Data', y = 1.02)\n",
    "plt.xlabel('Class Number'), plt.ylabel('Density')\n",
    "plt.subplot(1, 3, 2)\n",
    "sns.distplot(wo_yr_und_y_train, bins = wo_yr_num_classes)\n",
    "plt.title('Distribution Plot of Classes in the Re-split Training Set\\n(Under-sampled)', y = 1.02)\n",
    "plt.xlabel('Class Number'), plt.ylabel('Density')\n",
    "plt.subplot(1, 3, 3)\n",
    "sns.distplot(wo_yr_y_test, bins = wo_yr_num_classes)\n",
    "plt.title('Distribution Plot of Classes in the Re-split Testing Set', y = 1.02)\n",
    "plt.xlabel('Class Number'), plt.ylabel('Density')\n",
    "plt.show()\n"
   ]
  },
  {
   "cell_type": "code",
   "execution_count": null,
   "id": "0629ec0c-4170-4208-90cc-b69baf7b52f1",
   "metadata": {},
   "outputs": [],
   "source": []
  }
 ],
 "metadata": {
  "kernelspec": {
   "display_name": "Python [conda env:root] *",
   "language": "python",
   "name": "conda-root-py"
  },
  "language_info": {
   "codemirror_mode": {
    "name": "ipython",
    "version": 3
   },
   "file_extension": ".py",
   "mimetype": "text/x-python",
   "name": "python",
   "nbconvert_exporter": "python",
   "pygments_lexer": "ipython3",
   "version": "3.10.10"
  }
 },
 "nbformat": 4,
 "nbformat_minor": 5
}
